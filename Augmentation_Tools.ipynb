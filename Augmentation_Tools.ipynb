{
 "cells": [
  {
   "cell_type": "code",
   "execution_count": 1,
   "metadata": {},
   "outputs": [
    {
     "name": "stderr",
     "output_type": "stream",
     "text": [
      "Using TensorFlow backend.\n"
     ]
    },
    {
     "data": {
      "text/plain": [
       "<Figure size 640x480 with 9 Axes>"
      ]
     },
     "metadata": {},
     "output_type": "display_data"
    }
   ],
   "source": [
    "\n",
    "# example of horizontal shift image augmentation\n",
    "from numpy import expand_dims\n",
    "from keras.preprocessing.image import load_img\n",
    "from keras.preprocessing.image import img_to_array\n",
    "from keras.preprocessing.image import ImageDataGenerator\n",
    "from matplotlib import pyplot\n",
    "import cv2\n",
    "# load the image\n",
    "img = load_img('cigar100x75.jpg')\n",
    "# convert to numpy array\n",
    "data = img_to_array(img)\n",
    "# expand dimension to one sample\n",
    "samples = expand_dims(data, 0)\n",
    "# create image data augmentation generator\n",
    "datagen = ImageDataGenerator(width_shift_range=[-26,20])\n",
    "# prepare iterator\n",
    "it = datagen.flow(samples, batch_size=1)\n",
    "# generate samples and plot\n",
    "for i in range(9):\n",
    "\t# define subplot\n",
    "\tpyplot.subplot(330 + 1 + i)\n",
    "\t# generate batch of images\n",
    "\tbatch = it.next()\n",
    "\t# convert to unsigned integers for viewing\n",
    "\timage = batch[0].astype('uint8')\n",
    "\t# plot raw pixel data\n",
    "\tpyplot.imshow(image)\n",
    "    \n",
    "# show the figure\n",
    "pyplot.show()"
   ]
  },
  {
   "cell_type": "code",
   "execution_count": 12,
   "metadata": {},
   "outputs": [
    {
     "data": {
      "image/png": "[encoded data removed]",
      "text/plain": [
       "<Figure size 432x288 with 1 Axes>"
      ]
     },
     "metadata": {
      "needs_background": "light"
     },
     "output_type": "display_data"
    }
   ],
   "source": [
    "# example of brighting image augmentation\n",
    "from numpy import expand_dims\n",
    "from keras.preprocessing.image import load_img\n",
    "from keras.preprocessing.image import img_to_array\n",
    "from keras.preprocessing.image import ImageDataGenerator\n",
    "from matplotlib import pyplot\n",
    "# load the image\n",
    "img = load_img('cigar100x75.jpg')\n",
    "# convert to numpy array\n",
    "data = img_to_array(img)\n",
    "# expand dimension to one sample\n",
    "samples = expand_dims(data, 0)\n",
    "# create image data augmentation generator\n",
    "datagen = ImageDataGenerator(brightness_range=[0.1,1.0])\n",
    "# prepare iterator\n",
    "it = datagen.flow(samples, batch_size=1)\n",
    "# generate samples and plot\n",
    "for i in range(9):\n",
    "\t# define subplot\n",
    "\t\n",
    "\t# generate batch of images\n",
    "\tbatch = it.next()\n",
    "\t# convert to unsigned integers for viewing\n",
    "\timage = batch[0].astype('uint8')\n",
    "\t# plot raw pixel data\n",
    "\tpyplot.imshow(image)\n",
    "# show the figure\n",
    "pyplot.show()"
   ]
  },
  {
   "cell_type": "code",
   "execution_count": 15,
   "metadata": {},
   "outputs": [
    {
     "data": {
      "text/plain": [
       "<Figure size 640x480 with 9 Axes>"
      ]
     },
     "metadata": {},
     "output_type": "display_data"
    }
   ],
   "source": [
    "# example of zoom image augmentation\n",
    "from numpy import expand_dims\n",
    "from keras.preprocessing.image import load_img\n",
    "from keras.preprocessing.image import img_to_array\n",
    "from keras.preprocessing.image import ImageDataGenerator\n",
    "from matplotlib import pyplot\n",
    "# load the image\n",
    "img = load_img('cigar100x75.jpg')\n",
    "# convert to numpy array\n",
    "data = img_to_array(img)\n",
    "# expand dimension to one sample\n",
    "samples = expand_dims(data, 0)\n",
    "# create image data augmentation generator\n",
    "datagen = ImageDataGenerator(zoom_range=[0.5,1.0])\n",
    "# prepare iterator\n",
    "it = datagen.flow(samples, batch_size=1)\n",
    "# generate samples and plot\n",
    "for i in range(9):\n",
    "\t# define subplot\n",
    "\tpyplot.subplot(330 + 1 + i)\n",
    "\t# generate batch of images\n",
    "\tbatch = it.next()\n",
    "\t# convert to unsigned integers for viewing\n",
    "\timage = batch[0].astype('uint8')\n",
    "\t# plot raw pixel data\n",
    "\tpyplot.imshow(image)\n",
    "# show the figure\n",
    "pyplot.show()"
   ]
  },
  {
   "cell_type": "code",
   "execution_count": 3,
   "metadata": {},
   "outputs": [
    {
     "name": "stderr",
     "output_type": "stream",
     "text": [
      "Using TensorFlow backend.\n"
     ]
    }
   ],
   "source": [
    "import cv2\n",
    "import numpy as np\n",
    "from numpy import expand_dims\n",
    "from keras.preprocessing.image import ImageDataGenerator\n",
    "from IPython.display import clear_output\n",
    "\n",
    "class ExtractImage(object):\n",
    "    def __init__(self,image_name):\n",
    "        self.image_name = image_name\n",
    "        self.original_image = cv2.imread(self.image_name)\n",
    "\n",
    "        self.original_image = cv2.resize(self.original_image, (50,50))\n",
    "        self.clone = self.original_image.copy()\n",
    "\n",
    "        cv2.namedWindow('image')\n",
    "        cv2.setMouseCallback('image', self.extract_coordinates)\n",
    "        self.image_coordinates = []\n"
   ]
  },
  {
   "cell_type": "code",
   "execution_count": 4,
   "metadata": {},
   "outputs": [],
   "source": [
    "def extract_coordinates(self, event, x, y, flags, parameters):\n",
    "        if event == cv2.EVENT_LBUTTONDOWN:\n",
    "            self.image_coordinates = [(x,y)]\n",
    "\n",
    "        elif event == cv2.EVENT_LBUTTONUP:\n",
    "            self.image_coordinates.append((x,y))\n",
    "            self.crop_ROI()\n",
    "            # Draw rectangle around region of interest(ROI)\n",
    "            cv2.rectangle(self.clone, self.image_coordinates[0], self.image_coordinates[1], (255,0,0), 2)\n",
    "            cv2.imshow(\"image\", self.clone) \n",
    "\n",
    "        # Clear all drawn boxes on right mouse button click\n",
    "        elif event == cv2.EVENT_RBUTTONDOWN:\n",
    "            self.clone = self.original_image.copy()\n"
   ]
  },
  {
   "cell_type": "code",
   "execution_count": 2,
   "metadata": {},
   "outputs": [],
   "source": [
    "def crop_ROI(self):\n",
    "        self.cropped_image = self.clone.copy()\n",
    "        self.cropped_image = self.cropped_image[self.image_coordinates[0][1]:self.image_coordinates[1][1],\n",
    "                                                self.image_coordinates[0][0]:self.image_coordinates[1][0]]\n",
    "\n",
    "        print('Cropped image: {} {}'.format(self.image_coordinates[0], self.image_coordinates[1]))\n"
   ]
  },
  {
   "cell_type": "code",
   "execution_count": 20,
   "metadata": {},
   "outputs": [],
   "source": [
    "def save_with__rotate_augmentation(self):\n",
    "        # Generating 6 photos rotated 90 degrees\n",
    "        # If you want you can use another augmentation techniques\n",
    "        samples = expand_dims(self.cropped_image, 0)\n",
    "        datagen = ImageDataGenerator(rotation_range=90)\n",
    "        it = datagen.flow(samples, batch_size=1)\n",
    "        \n",
    "        for i in range(6):\n",
    "            batch = it.next()\n",
    "            image = batch[0].astype('uint8')\n",
    "            cv2.imwrite('augmentation' + str(i) + str('.jpg'),image)\n",
    "            \n",
    "def save_with_zoom_augmentation(self):\n",
    "    \n",
    "        samples = expand_dims(self.cropped_image, 0)\n",
    "        # create image data augmentation generator\n",
    "        datagen = ImageDataGenerator(zoom_range=[0.5,1.0])\n",
    "        # prepare iterator\n",
    "        it = datagen.flow(samples, batch_size=1)\n",
    "        \n",
    "        for i in range(6):\n",
    "            batch = it.next()\n",
    "            image = batch[0].astype('uint8')\n",
    "            cv2.imwrite('augmentation' + str(i) + str('.jpg'),image)\n",
    "            \n",
    "            \n",
    "            \n",
    "def show_image(self):\n",
    "        return self.clone\n",
    "    \n",
    "def show_cropped_ROI(self):\n",
    "        cv2.imshow('cropped image', self.cropped_image)\n",
    "        \n",
    "def save_cropped_ROI(self):\n",
    "        cv2.imwrite('crop.jpg',self.cropped_image)\n",
    "        \n",
    "\n"
   ]
  },
  {
   "cell_type": "markdown",
   "metadata": {
    "scrolled": true
   },
   "source": []
  },
  {
   "cell_type": "code",
   "execution_count": 21,
   "metadata": {},
   "outputs": [
    {
     "ename": "AttributeError",
     "evalue": "'ExtractImage' object has no attribute 'extract_coordinates'",
     "output_type": "error",
     "traceback": [
      "\u001b[0;31m---------------------------------------------------------------------------\u001b[0m",
      "\u001b[0;31mAttributeError\u001b[0m                            Traceback (most recent call last)",
      "\u001b[0;32m<ipython-input-21-ee528b1a4640>\u001b[0m in \u001b[0;36m<module>\u001b[0;34m\u001b[0m\n\u001b[1;32m      1\u001b[0m \u001b[0;32mif\u001b[0m \u001b[0m__name__\u001b[0m \u001b[0;34m==\u001b[0m \u001b[0;34m'__main__'\u001b[0m\u001b[0;34m:\u001b[0m\u001b[0;34m\u001b[0m\u001b[0;34m\u001b[0m\u001b[0m\n\u001b[0;32m----> 2\u001b[0;31m     \u001b[0mextract_image\u001b[0m \u001b[0;34m=\u001b[0m \u001b[0mExtractImage\u001b[0m\u001b[0;34m(\u001b[0m\u001b[0;34m'cigar100x75.jpg'\u001b[0m\u001b[0;34m)\u001b[0m \u001b[0;31m# Write your image name\u001b[0m\u001b[0;34m\u001b[0m\u001b[0;34m\u001b[0m\u001b[0m\n\u001b[0m\u001b[1;32m      3\u001b[0m     \u001b[0;32mwhile\u001b[0m \u001b[0;32mTrue\u001b[0m\u001b[0;34m:\u001b[0m\u001b[0;34m\u001b[0m\u001b[0;34m\u001b[0m\u001b[0m\n\u001b[1;32m      4\u001b[0m         \u001b[0mcv2\u001b[0m\u001b[0;34m.\u001b[0m\u001b[0mimshow\u001b[0m\u001b[0;34m(\u001b[0m\u001b[0;34m'image'\u001b[0m\u001b[0;34m,\u001b[0m \u001b[0mextract_image\u001b[0m\u001b[0;34m.\u001b[0m\u001b[0mshow_image\u001b[0m\u001b[0;34m(\u001b[0m\u001b[0;34m)\u001b[0m\u001b[0;34m)\u001b[0m\u001b[0;34m\u001b[0m\u001b[0;34m\u001b[0m\u001b[0m\n\u001b[1;32m      5\u001b[0m         \u001b[0mkey\u001b[0m \u001b[0;34m=\u001b[0m \u001b[0mcv2\u001b[0m\u001b[0;34m.\u001b[0m\u001b[0mwaitKey\u001b[0m\u001b[0;34m(\u001b[0m\u001b[0;36m1\u001b[0m\u001b[0;34m)\u001b[0m\u001b[0;34m\u001b[0m\u001b[0;34m\u001b[0m\u001b[0m\n",
      "\u001b[0;32m<ipython-input-17-a598e2dd094f>\u001b[0m in \u001b[0;36m__init__\u001b[0;34m(self, image_name)\u001b[0m\n\u001b[1;32m     14\u001b[0m \u001b[0;34m\u001b[0m\u001b[0m\n\u001b[1;32m     15\u001b[0m         \u001b[0mcv2\u001b[0m\u001b[0;34m.\u001b[0m\u001b[0mnamedWindow\u001b[0m\u001b[0;34m(\u001b[0m\u001b[0;34m'image'\u001b[0m\u001b[0;34m)\u001b[0m\u001b[0;34m\u001b[0m\u001b[0;34m\u001b[0m\u001b[0m\n\u001b[0;32m---> 16\u001b[0;31m         \u001b[0mcv2\u001b[0m\u001b[0;34m.\u001b[0m\u001b[0msetMouseCallback\u001b[0m\u001b[0;34m(\u001b[0m\u001b[0;34m'image'\u001b[0m\u001b[0;34m,\u001b[0m \u001b[0mself\u001b[0m\u001b[0;34m.\u001b[0m\u001b[0mextract_coordinates\u001b[0m\u001b[0;34m)\u001b[0m\u001b[0;34m\u001b[0m\u001b[0;34m\u001b[0m\u001b[0m\n\u001b[0m\u001b[1;32m     17\u001b[0m         \u001b[0mself\u001b[0m\u001b[0;34m.\u001b[0m\u001b[0mimage_coordinates\u001b[0m \u001b[0;34m=\u001b[0m \u001b[0;34m[\u001b[0m\u001b[0;34m]\u001b[0m\u001b[0;34m\u001b[0m\u001b[0;34m\u001b[0m\u001b[0m\n",
      "\u001b[0;31mAttributeError\u001b[0m: 'ExtractImage' object has no attribute 'extract_coordinates'"
     ]
    }
   ],
   "source": [
    "if __name__ == '__main__':\n",
    "    extract_image = ExtractImage('cigar100x75.jpg') # Write your image name\n",
    "    while True:\n",
    "        cv2.imshow('image', extract_image.show_image())\n",
    "        key = cv2.waitKey(1)\n",
    "\n",
    "        # Close program with keyboard 'q'\n",
    "        if key == ord('q'):\n",
    "            cv2.destroyAllWindows()\n",
    "            cv2.waitKey(0)\n",
    "\n",
    "        # Crop image with keyboard 'c'\n",
    "        if key == ord('c'):\n",
    "            extract_image.show_cropped_ROI()\n",
    "            \n",
    "        # Save cropped image with keyboard 's'\n",
    "        if key == ord('s'):\n",
    "            extract_image.save_cropped_ROI()\n",
    "            print('Cropped image saved !')\n",
    "            \n",
    "        #Save cropped image with augmentation\n",
    "        if key == ord('a'):\n",
    "            extract_image.save_with_rotate_augmentation()\n",
    "            print('Augmented cropped images saved !')"
   ]
  },
  {
   "cell_type": "code",
   "execution_count": null,
   "metadata": {},
   "outputs": [],
   "source": []
  },
  {
   "cell_type": "code",
   "execution_count": null,
   "metadata": {},
   "outputs": [],
   "source": []
  },
  {
   "cell_type": "code",
   "execution_count": null,
   "metadata": {},
   "outputs": [],
   "source": []
  },
  {
   "cell_type": "code",
   "execution_count": null,
   "metadata": {},
   "outputs": [],
   "source": []
  },
  {
   "cell_type": "code",
   "execution_count": null,
   "metadata": {},
   "outputs": [],
   "source": []
  },
  {
   "cell_type": "code",
   "execution_count": null,
   "metadata": {},
   "outputs": [],
   "source": []
  },
  {
   "cell_type": "code",
   "execution_count": null,
   "metadata": {},
   "outputs": [],
   "source": []
  },
  {
   "cell_type": "code",
   "execution_count": null,
   "metadata": {},
   "outputs": [],
   "source": []
  },
  {
   "cell_type": "code",
   "execution_count": null,
   "metadata": {},
   "outputs": [],
   "source": []
  },
  {
   "cell_type": "code",
   "execution_count": null,
   "metadata": {},
   "outputs": [],
   "source": []
  },
  {
   "cell_type": "code",
   "execution_count": null,
   "metadata": {},
   "outputs": [],
   "source": []
  },
  {
   "cell_type": "code",
   "execution_count": null,
   "metadata": {},
   "outputs": [],
   "source": []
  },
  {
   "cell_type": "code",
   "execution_count": null,
   "metadata": {},
   "outputs": [],
   "source": []
  },
  {
   "cell_type": "code",
   "execution_count": null,
   "metadata": {},
   "outputs": [],
   "source": []
  },
  {
   "cell_type": "code",
   "execution_count": null,
   "metadata": {},
   "outputs": [
    {
     "name": "stderr",
     "output_type": "stream",
     "text": [
      "Using TensorFlow backend.\n"
     ]
    },
    {
     "name": "stdout",
     "output_type": "stream",
     "text": [
      "Cropped image: (67, 35) (211, 251)\n",
      "Augmented cropped images saved !\n"
     ]
    }
   ],
   "source": [
    "import cv2\n",
    "import numpy as np\n",
    "from numpy import expand_dims\n",
    "from keras.preprocessing.image import ImageDataGenerator\n",
    "from IPython.display import clear_output\n",
    "\n",
    "\n",
    "\n",
    "class ExtractImage(object):\n",
    "    def __init__(self,image_name):\n",
    "        self.image_name = image_name\n",
    "        self.original_image = cv2.imread(self.image_name)\n",
    "\n",
    "        self.original_image = cv2.resize(self.original_image, (300,300))\n",
    "        self.clone = self.original_image.copy()\n",
    "\n",
    "        cv2.namedWindow('image')\n",
    "        cv2.setMouseCallback('image', self.extract_coordinates)\n",
    "        self.image_coordinates = []\n",
    "\n",
    "    def extract_coordinates(self, event, x, y, flags, parameters):\n",
    "        if event == cv2.EVENT_LBUTTONDOWN:\n",
    "            self.image_coordinates = [(x,y)]\n",
    "\n",
    "        elif event == cv2.EVENT_LBUTTONUP:\n",
    "            self.image_coordinates.append((x,y))\n",
    "            self.crop_ROI()\n",
    "\n",
    "            # Draw rectangle around region of interst(ROI)\n",
    "            cv2.rectangle(self.clone, self.image_coordinates[0], self.image_coordinates[1], (255,0,0), 2)\n",
    "            cv2.imshow(\"image\", self.clone) \n",
    "\n",
    "        # Clear all drawn boxes on right mouse button click\n",
    "        elif event == cv2.EVENT_RBUTTONDOWN:\n",
    "            self.clone = self.original_image.copy()\n",
    "\n",
    "    def crop_ROI(self):\n",
    "        self.cropped_image = self.clone.copy()\n",
    "        self.cropped_image = self.cropped_image[self.image_coordinates[0][1]:self.image_coordinates[1][1],\n",
    "                                                self.image_coordinates[0][0]:self.image_coordinates[1][0]]\n",
    "\n",
    "        print('Cropped image: {} {}'.format(self.image_coordinates[0], self.image_coordinates[1]))\n",
    "    \n",
    "    def save_with_rotate_augmentation(self):\n",
    "        # Generating 6 photos rotated 90 degrees\n",
    "        # If you want you can use another augmentation techniques\n",
    "        samples = expand_dims(self.cropped_image, 0)\n",
    "        datagen = ImageDataGenerator(rotation_range=90)\n",
    "        it = datagen.flow(samples, batch_size=1)\n",
    "        \n",
    "        for i in range(20):\n",
    "            batch = it.next()\n",
    "            image = batch[0].astype('uint8')\n",
    "            cv2.imwrite('augmentation' + str(i) + str('.jpg'),image)\n",
    "    \n",
    "    def save_with_zoom_augmentation(self):\n",
    "        # Generating 6 photos rotated 90 degrees\n",
    "        # If you want you can use another augmentation techniques\n",
    "        samples = expand_dims(self.cropped_image, 0)\n",
    "        datagen = ImageDataGenerator(zoom_range=[0.5,1.0])\n",
    "        it = datagen.flow(samples, batch_size=1)\n",
    "        \n",
    "        for i in range(20):\n",
    "            batch = it.next()\n",
    "            image = batch[0].astype('uint8')\n",
    "            cv2.imwrite('augmentation' + str(i) + str('.jpg'),image)\n",
    "            \n",
    "    def save_with_shift_augmentation(self):\n",
    "        # Generating 6 photos rotated 90 degrees\n",
    "        # If you want you can use another augmentation techniques\n",
    "        samples = expand_dims(self.cropped_image, 0)\n",
    "        datagen = ImageDataGenerator(width_shift_range=[-26,20])\n",
    "        it = datagen.flow(samples, batch_size=1)\n",
    "        \n",
    "        for i in range(20):\n",
    "            batch = it.next()\n",
    "            image = batch[0].astype('uint8')\n",
    "            cv2.imwrite('augmentation' + str(i) + str('.jpg'),image)\n",
    "    \n",
    "     \n",
    "    def save_with_brightness_augmentation(self):\n",
    "        # Generating 6 photos rotated 90 degrees\n",
    "        # If you want you can use another augmentation techniques\n",
    "        samples = expand_dims(self.cropped_image, 0)\n",
    "        datagen = ImageDataGenerator(brightness_range=[0.1,1.0])\n",
    "        it = datagen.flow(samples, batch_size=1)\n",
    "        \n",
    "        for i in range(20):\n",
    "            batch = it.next()\n",
    "            image = batch[0].astype('uint8')\n",
    "            cv2.imwrite('augmentation' + str(i) + str('.jpg'),image)\n",
    "            \n",
    "    \n",
    "    \n",
    "    def show_image(self):\n",
    "        return self.clone\n",
    "    \n",
    "    def show_cropped_ROI(self):\n",
    "        cv2.imshow('cropped image', self.cropped_image)\n",
    "        \n",
    "    def save_cropped_ROI(self):\n",
    "        cv2.imwrite('crop.jpg',self.cropped_image)\n",
    "        \n",
    "if __name__ == '__main__':\n",
    "    extract_image = ExtractImage('cigareee.jpg') # Write your image name\n",
    "    while True:\n",
    "        cv2.imshow('image', extract_image.show_image())\n",
    "        key = cv2.waitKey(1)\n",
    "\n",
    "        # Close program with keyboard 'q'\n",
    "        if key == ord('q'):\n",
    "            cv2.destroyAllWindows()\n",
    "            cv2.waitKey(0)\n",
    "\n",
    "        # Crop image with keyboard 'c'\n",
    "        if key == ord('c'):\n",
    "            extract_image.show_cropped_ROI()\n",
    "            \n",
    "        # Save cropped image with keyboard 's'\n",
    "        if key == ord('s'):\n",
    "            extract_image.save_cropped_ROI()\n",
    "            print('Cropped image saved !')\n",
    "            \n",
    "         #Save cropped image with rotate augmentation\n",
    "        if key == ord('r'):\n",
    "            extract_image.save_with_rotate_augmentation()\n",
    "        \n",
    "         #Save cropped image with zoom augmentation\n",
    "        if key == ord('z'):\n",
    "            extract_image.save_with_zoom_augmentation()\n",
    "            print('Augmented cropped images saved !')\n",
    "        \n",
    "         #Save cropped image with shift augmentation\n",
    "        if key == ord('h'):\n",
    "            extract_image.save_with_shift_augmentation()\n",
    "            print('Augmented cropped images saved !')\n",
    "            \n",
    "         #Save cropped image with brightness augmentation\n",
    "        if key == ord('b'):\n",
    "            extract_image.save_with_brightness_augmentation()\n",
    "            print('Augmented cropped images saved !')\n",
    "            \n",
    "        #Save cropped image with all augmentation\n",
    "        if key == ord('a'):\n",
    "            extract_image.save_with_rotate_augmentation()\n",
    "            extract_image.save_with_zoom_augmentation()\n",
    "            extract_image.save_with_shift_augmentation()\n",
    "            extract_image.save_with_brightness_augmentation()\n",
    "            print('Augmented cropped images saved !')"
   ]
  },
  {
   "cell_type": "markdown",
   "metadata": {},
   "source": []
  }
 ],
 "metadata": {
  "kernelspec": {
   "display_name": "Python 3",
   "language": "python",
   "name": "python3"
  },
  "language_info": {
   "codemirror_mode": {
    "name": "ipython",
    "version": 3
   },
   "file_extension": ".py",
   "mimetype": "text/x-python",
   "name": "python",
   "nbconvert_exporter": "python",
   "pygments_lexer": "ipython3",
   "version": "3.6.8"
  }
 },
 "nbformat": 4,
 "nbformat_minor": 2
}
